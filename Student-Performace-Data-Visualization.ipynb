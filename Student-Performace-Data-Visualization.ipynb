{
 "cells": [
  {
   "cell_type": "markdown",
   "id": "922c9d40",
   "metadata": {},
   "source": [
    "# Student Performance Data Visualization.\n",
    "\n",
    "In this project we will look at the Data Visualization through the given Dataset.\n",
    "\n",
    "You can find the dataset from https://www.kaggle.com/spscientist/students-performance-in-exams this link.\n",
    "\n",
    "Once you have downloaded the dataset save it to the same location of your python file.\n",
    "\n",
    "Okay, Then import the necessary libraries for the project."
   ]
  },
  {
   "cell_type": "code",
   "execution_count": 111,
   "id": "447297c8",
   "metadata": {},
   "outputs": [],
   "source": [
    "# Import Libraries that'll be needed for the analysis and visualization.\n",
    "import numpy as np\n",
    "import pandas as pd\n",
    "import matplotlib.pyplot as plt\n",
    "import seaborn as sns\n",
    "%matplotlib inline\n",
    "# Above line of code is for viewing the graphs in ipython notebook itself."
   ]
  },
  {
   "cell_type": "code",
   "execution_count": 67,
   "id": "488d050e",
   "metadata": {},
   "outputs": [],
   "source": [
    "# Seting up Students_performance from the csv file.\n",
    "students_performance = pd.read_csv(\"StudentsPerformance.csv\")"
   ]
  },
  {
   "cell_type": "code",
   "execution_count": 68,
   "id": "1058fd6c",
   "metadata": {
    "scrolled": true
   },
   "outputs": [
    {
     "data": {
      "text/html": [
       "<div>\n",
       "<style scoped>\n",
       "    .dataframe tbody tr th:only-of-type {\n",
       "        vertical-align: middle;\n",
       "    }\n",
       "\n",
       "    .dataframe tbody tr th {\n",
       "        vertical-align: top;\n",
       "    }\n",
       "\n",
       "    .dataframe thead th {\n",
       "        text-align: right;\n",
       "    }\n",
       "</style>\n",
       "<table border=\"1\" class=\"dataframe\">\n",
       "  <thead>\n",
       "    <tr style=\"text-align: right;\">\n",
       "      <th></th>\n",
       "      <th>gender</th>\n",
       "      <th>race/ethnicity</th>\n",
       "      <th>parental level of education</th>\n",
       "      <th>lunch</th>\n",
       "      <th>test preparation course</th>\n",
       "      <th>math score</th>\n",
       "      <th>reading score</th>\n",
       "      <th>writing score</th>\n",
       "    </tr>\n",
       "  </thead>\n",
       "  <tbody>\n",
       "    <tr>\n",
       "      <th>0</th>\n",
       "      <td>female</td>\n",
       "      <td>group B</td>\n",
       "      <td>bachelor's degree</td>\n",
       "      <td>standard</td>\n",
       "      <td>none</td>\n",
       "      <td>72</td>\n",
       "      <td>72</td>\n",
       "      <td>74</td>\n",
       "    </tr>\n",
       "    <tr>\n",
       "      <th>1</th>\n",
       "      <td>female</td>\n",
       "      <td>group C</td>\n",
       "      <td>some college</td>\n",
       "      <td>standard</td>\n",
       "      <td>completed</td>\n",
       "      <td>69</td>\n",
       "      <td>90</td>\n",
       "      <td>88</td>\n",
       "    </tr>\n",
       "    <tr>\n",
       "      <th>2</th>\n",
       "      <td>female</td>\n",
       "      <td>group B</td>\n",
       "      <td>master's degree</td>\n",
       "      <td>standard</td>\n",
       "      <td>none</td>\n",
       "      <td>90</td>\n",
       "      <td>95</td>\n",
       "      <td>93</td>\n",
       "    </tr>\n",
       "    <tr>\n",
       "      <th>3</th>\n",
       "      <td>male</td>\n",
       "      <td>group A</td>\n",
       "      <td>associate's degree</td>\n",
       "      <td>free/reduced</td>\n",
       "      <td>none</td>\n",
       "      <td>47</td>\n",
       "      <td>57</td>\n",
       "      <td>44</td>\n",
       "    </tr>\n",
       "    <tr>\n",
       "      <th>4</th>\n",
       "      <td>male</td>\n",
       "      <td>group C</td>\n",
       "      <td>some college</td>\n",
       "      <td>standard</td>\n",
       "      <td>none</td>\n",
       "      <td>76</td>\n",
       "      <td>78</td>\n",
       "      <td>75</td>\n",
       "    </tr>\n",
       "  </tbody>\n",
       "</table>\n",
       "</div>"
      ],
      "text/plain": [
       "   gender race/ethnicity parental level of education         lunch  \\\n",
       "0  female        group B           bachelor's degree      standard   \n",
       "1  female        group C                some college      standard   \n",
       "2  female        group B             master's degree      standard   \n",
       "3    male        group A          associate's degree  free/reduced   \n",
       "4    male        group C                some college      standard   \n",
       "\n",
       "  test preparation course  math score  reading score  writing score  \n",
       "0                    none          72             72             74  \n",
       "1               completed          69             90             88  \n",
       "2                    none          90             95             93  \n",
       "3                    none          47             57             44  \n",
       "4                    none          76             78             75  "
      ]
     },
     "execution_count": 68,
     "metadata": {},
     "output_type": "execute_result"
    }
   ],
   "source": [
    "# Just a little preview on what we have and what we don't.\n",
    "students_performance.head()"
   ]
  },
  {
   "cell_type": "code",
   "execution_count": 69,
   "id": "7bc972b5",
   "metadata": {},
   "outputs": [
    {
     "name": "stdout",
     "output_type": "stream",
     "text": [
      "<class 'pandas.core.frame.DataFrame'>\n",
      "RangeIndex: 1000 entries, 0 to 999\n",
      "Data columns (total 8 columns):\n",
      " #   Column                       Non-Null Count  Dtype \n",
      "---  ------                       --------------  ----- \n",
      " 0   gender                       1000 non-null   object\n",
      " 1   race/ethnicity               1000 non-null   object\n",
      " 2   parental level of education  1000 non-null   object\n",
      " 3   lunch                        1000 non-null   object\n",
      " 4   test preparation course      1000 non-null   object\n",
      " 5   math score                   1000 non-null   int64 \n",
      " 6   reading score                1000 non-null   int64 \n",
      " 7   writing score                1000 non-null   int64 \n",
      "dtypes: int64(3), object(5)\n",
      "memory usage: 62.6+ KB\n"
     ]
    }
   ],
   "source": [
    "# Info of all the columns.\n",
    "students_performance.info()"
   ]
  },
  {
   "cell_type": "code",
   "execution_count": 70,
   "id": "76ead98f",
   "metadata": {},
   "outputs": [
    {
     "data": {
      "text/plain": [
       "gender                         0\n",
       "race/ethnicity                 0\n",
       "parental level of education    0\n",
       "lunch                          0\n",
       "test preparation course        0\n",
       "math score                     0\n",
       "reading score                  0\n",
       "writing score                  0\n",
       "dtype: int64"
      ]
     },
     "execution_count": 70,
     "metadata": {},
     "output_type": "execute_result"
    }
   ],
   "source": [
    "# To find if there are any null values present in the dataset.\n",
    "students_performance.isnull().sum()"
   ]
  },
  {
   "cell_type": "code",
   "execution_count": 71,
   "id": "200b9973",
   "metadata": {},
   "outputs": [
    {
     "data": {
      "text/html": [
       "<div>\n",
       "<style scoped>\n",
       "    .dataframe tbody tr th:only-of-type {\n",
       "        vertical-align: middle;\n",
       "    }\n",
       "\n",
       "    .dataframe tbody tr th {\n",
       "        vertical-align: top;\n",
       "    }\n",
       "\n",
       "    .dataframe thead th {\n",
       "        text-align: right;\n",
       "    }\n",
       "</style>\n",
       "<table border=\"1\" class=\"dataframe\">\n",
       "  <thead>\n",
       "    <tr style=\"text-align: right;\">\n",
       "      <th></th>\n",
       "      <th>math score</th>\n",
       "      <th>reading score</th>\n",
       "      <th>writing score</th>\n",
       "    </tr>\n",
       "  </thead>\n",
       "  <tbody>\n",
       "    <tr>\n",
       "      <th>count</th>\n",
       "      <td>1000.00000</td>\n",
       "      <td>1000.000000</td>\n",
       "      <td>1000.000000</td>\n",
       "    </tr>\n",
       "    <tr>\n",
       "      <th>mean</th>\n",
       "      <td>66.08900</td>\n",
       "      <td>69.169000</td>\n",
       "      <td>68.054000</td>\n",
       "    </tr>\n",
       "    <tr>\n",
       "      <th>std</th>\n",
       "      <td>15.16308</td>\n",
       "      <td>14.600192</td>\n",
       "      <td>15.195657</td>\n",
       "    </tr>\n",
       "    <tr>\n",
       "      <th>min</th>\n",
       "      <td>0.00000</td>\n",
       "      <td>17.000000</td>\n",
       "      <td>10.000000</td>\n",
       "    </tr>\n",
       "    <tr>\n",
       "      <th>25%</th>\n",
       "      <td>57.00000</td>\n",
       "      <td>59.000000</td>\n",
       "      <td>57.750000</td>\n",
       "    </tr>\n",
       "    <tr>\n",
       "      <th>50%</th>\n",
       "      <td>66.00000</td>\n",
       "      <td>70.000000</td>\n",
       "      <td>69.000000</td>\n",
       "    </tr>\n",
       "    <tr>\n",
       "      <th>75%</th>\n",
       "      <td>77.00000</td>\n",
       "      <td>79.000000</td>\n",
       "      <td>79.000000</td>\n",
       "    </tr>\n",
       "    <tr>\n",
       "      <th>max</th>\n",
       "      <td>100.00000</td>\n",
       "      <td>100.000000</td>\n",
       "      <td>100.000000</td>\n",
       "    </tr>\n",
       "  </tbody>\n",
       "</table>\n",
       "</div>"
      ],
      "text/plain": [
       "       math score  reading score  writing score\n",
       "count  1000.00000    1000.000000    1000.000000\n",
       "mean     66.08900      69.169000      68.054000\n",
       "std      15.16308      14.600192      15.195657\n",
       "min       0.00000      17.000000      10.000000\n",
       "25%      57.00000      59.000000      57.750000\n",
       "50%      66.00000      70.000000      69.000000\n",
       "75%      77.00000      79.000000      79.000000\n",
       "max     100.00000     100.000000     100.000000"
      ]
     },
     "execution_count": 71,
     "metadata": {},
     "output_type": "execute_result"
    }
   ],
   "source": [
    "# To help describe the integer columns and also to know some basic things about those columns.\n",
    "students_performance.describe()"
   ]
  },
  {
   "cell_type": "code",
   "execution_count": 72,
   "id": "e980f5f1",
   "metadata": {},
   "outputs": [
    {
     "data": {
      "text/plain": [
       "gender                          2\n",
       "race/ethnicity                  5\n",
       "parental level of education     6\n",
       "lunch                           2\n",
       "test preparation course         2\n",
       "math score                     81\n",
       "reading score                  72\n",
       "writing score                  77\n",
       "dtype: int64"
      ]
     },
     "execution_count": 72,
     "metadata": {},
     "output_type": "execute_result"
    }
   ],
   "source": [
    "# To figure out all the unique values of all the columns.\n",
    "students_performance.nunique()"
   ]
  },
  {
   "cell_type": "markdown",
   "id": "495ba604",
   "metadata": {},
   "source": [
    "From the given data we are going to analysis it and find of what are the thing that could be useful.\n",
    "Also, if the dataset even makes any sense and to do this we will create various different \n",
    "graphs to answers some questions to make the data understandable.\n",
    "\n",
    "Like, in the graph below we found out that there were more number of female than thheir counterpart who gave the exams. And the difference between would be as low as 100 odd students as we can clearly see."
   ]
  },
  {
   "cell_type": "code",
   "execution_count": 73,
   "id": "b0c38c18",
   "metadata": {},
   "outputs": [
    {
     "data": {
      "text/plain": [
       "<seaborn.axisgrid.FacetGrid at 0x1fe416d8b80>"
      ]
     },
     "execution_count": 73,
     "metadata": {},
     "output_type": "execute_result"
    },
    {
     "data": {
      "image/png": "[encoded data removed]",
      "text/plain": [
       "<Figure size 360x360 with 1 Axes>"
      ]
     },
     "metadata": {
      "needs_background": "light"
     },
     "output_type": "display_data"
    }
   ],
   "source": [
    "# Bargraph for the gender count.\n",
    "sns.catplot(x = 'gender',kind = \"count\",data=students_performance)"
   ]
  },
  {
   "cell_type": "markdown",
   "id": "d21fc400",
   "metadata": {},
   "source": [
    "Now, again form this is similar to the previous one but it answers few more question on our data. That is, the race/ethnicity has 5 unique values and there are more number of Female than male in 'group B' and in 'group C' the females dominate the males while in the other three groups which are group A, group D, group E the count of male is slightly higher than the female. "
   ]
  },
  {
   "cell_type": "code",
   "execution_count": 74,
   "id": "2cefbc99",
   "metadata": {},
   "outputs": [
    {
     "data": {
      "text/plain": [
       "<seaborn.axisgrid.FacetGrid at 0x1fe4174bb80>"
      ]
     },
     "execution_count": 74,
     "metadata": {},
     "output_type": "execute_result"
    },
    {
     "data": {
      "image/png": "[encoded data removed]",
      "text/plain": [
       "<Figure size 430.5x360 with 1 Axes>"
      ]
     },
     "metadata": {
      "needs_background": "light"
     },
     "output_type": "display_data"
    }
   ],
   "source": [
    "# Another one of the Bar graph.\n",
    "sns.catplot(x = 'race/ethnicity', kind = \"count\", hue = \"gender\",data=students_performance)"
   ]
  },
  {
   "cell_type": "code",
   "execution_count": 75,
   "id": "e1de1878",
   "metadata": {},
   "outputs": [
    {
     "data": {
      "text/plain": [
       "<AxesSubplot:xlabel='math score', ylabel='gender'>"
      ]
     },
     "execution_count": 75,
     "metadata": {},
     "output_type": "execute_result"
    },
    {
     "data": {
      "image/png": "[encoded data removed]",
      "text/plain": [
       "<Figure size 432x288 with 1 Axes>"
      ]
     },
     "metadata": {
      "needs_background": "light"
     },
     "output_type": "display_data"
    }
   ],
   "source": [
    "# This is a Box plot on both male and female's Math score.\n",
    "sns.boxplot(x = 'math score' , y = \"gender\", data = students_performance)"
   ]
  },
  {
   "cell_type": "code",
   "execution_count": 76,
   "id": "15b14f50",
   "metadata": {},
   "outputs": [
    {
     "data": {
      "text/plain": [
       "<AxesSubplot:>"
      ]
     },
     "execution_count": 76,
     "metadata": {},
     "output_type": "execute_result"
    },
    {
     "data": {
      "image/png": "[encoded data removed]",
      "text/plain": [
       "<Figure size 432x288 with 1 Axes>"
      ]
     },
     "metadata": {
      "needs_background": "light"
     },
     "output_type": "display_data"
    }
   ],
   "source": [
    "# Histogram of all the scores of Math.\n",
    "students_performance['math score'].hist(bins = 80)"
   ]
  },
  {
   "cell_type": "markdown",
   "id": "0591a13a",
   "metadata": {},
   "source": [
    "The Above datagraph a boxplot graph on the math score of all students and from that graph we got to know that the range of the scores of both female and male Math Score and we can see all 4 quartile range through the box plot. After which is the histogram with which we not know the approx mean of all the students.\n",
    "\n",
    "The below line of code are the exact mean of all the students in Math and also the mean of both male and female induvidually."
   ]
  },
  {
   "cell_type": "code",
   "execution_count": 77,
   "id": "4acb611b",
   "metadata": {},
   "outputs": [
    {
     "data": {
      "text/plain": [
       "66.089"
      ]
     },
     "execution_count": 77,
     "metadata": {},
     "output_type": "execute_result"
    }
   ],
   "source": [
    "# Mean of Math score of all the scores.\n",
    "students_performance['math score'].mean()"
   ]
  },
  {
   "cell_type": "code",
   "execution_count": 78,
   "id": "a7c40a4c",
   "metadata": {},
   "outputs": [
    {
     "data": {
      "text/plain": [
       "63.633204633204635"
      ]
     },
     "execution_count": 78,
     "metadata": {},
     "output_type": "execute_result"
    }
   ],
   "source": [
    "# Mean of the Math score of only female.\n",
    "students_performance['math score'].loc[students_performance['gender'] == 'female'].mean()"
   ]
  },
  {
   "cell_type": "code",
   "execution_count": 79,
   "id": "6ef23bf5",
   "metadata": {},
   "outputs": [
    {
     "data": {
      "text/plain": [
       "68.72821576763485"
      ]
     },
     "execution_count": 79,
     "metadata": {},
     "output_type": "execute_result"
    }
   ],
   "source": [
    "# Mean of the Math score of only male.\n",
    "students_performance['math score'].loc[students_performance['gender'] == 'male'].mean()"
   ]
  },
  {
   "cell_type": "markdown",
   "id": "78276a9d",
   "metadata": {},
   "source": [
    "The same process done which Math scores have been repeated for 'reading score' and 'writing score' as well and doing this we found out more about the data."
   ]
  },
  {
   "cell_type": "code",
   "execution_count": 80,
   "id": "d5f62828",
   "metadata": {},
   "outputs": [
    {
     "data": {
      "text/plain": [
       "<AxesSubplot:xlabel='reading score', ylabel='gender'>"
      ]
     },
     "execution_count": 80,
     "metadata": {},
     "output_type": "execute_result"
    },
    {
     "data": {
      "image/png": "[encoded data removed]",
      "text/plain": [
       "<Figure size 432x288 with 1 Axes>"
      ]
     },
     "metadata": {
      "needs_background": "light"
     },
     "output_type": "display_data"
    }
   ],
   "source": [
    "sns.boxplot(x = 'reading score' , y = \"gender\", data = students_performance)"
   ]
  },
  {
   "cell_type": "code",
   "execution_count": 81,
   "id": "25be9830",
   "metadata": {},
   "outputs": [
    {
     "data": {
      "text/plain": [
       "<AxesSubplot:>"
      ]
     },
     "execution_count": 81,
     "metadata": {},
     "output_type": "execute_result"
    },
    {
     "data": {
      "image/png": "[encoded data removed]",
      "text/plain": [
       "<Figure size 432x288 with 1 Axes>"
      ]
     },
     "metadata": {
      "needs_background": "light"
     },
     "output_type": "display_data"
    }
   ],
   "source": [
    "students_performance['reading score'].hist(bins = 70)"
   ]
  },
  {
   "cell_type": "code",
   "execution_count": 82,
   "id": "fd11c552",
   "metadata": {},
   "outputs": [
    {
     "data": {
      "text/plain": [
       "69.169"
      ]
     },
     "execution_count": 82,
     "metadata": {},
     "output_type": "execute_result"
    }
   ],
   "source": [
    "students_performance['reading score'].mean()"
   ]
  },
  {
   "cell_type": "code",
   "execution_count": 83,
   "id": "c039baa5",
   "metadata": {},
   "outputs": [
    {
     "data": {
      "text/plain": [
       "72.60810810810811"
      ]
     },
     "execution_count": 83,
     "metadata": {},
     "output_type": "execute_result"
    }
   ],
   "source": [
    "students_performance['reading score'].loc[students_performance['gender'] == 'female'].mean()"
   ]
  },
  {
   "cell_type": "code",
   "execution_count": 84,
   "id": "8f5b91cf",
   "metadata": {},
   "outputs": [
    {
     "data": {
      "text/plain": [
       "65.47302904564316"
      ]
     },
     "execution_count": 84,
     "metadata": {},
     "output_type": "execute_result"
    }
   ],
   "source": [
    "students_performance['reading score'].loc[students_performance['gender'] == 'male'].mean()"
   ]
  },
  {
   "cell_type": "code",
   "execution_count": 85,
   "id": "7b53df60",
   "metadata": {},
   "outputs": [
    {
     "data": {
      "text/plain": [
       "<AxesSubplot:xlabel='writing score', ylabel='gender'>"
      ]
     },
     "execution_count": 85,
     "metadata": {},
     "output_type": "execute_result"
    },
    {
     "data": {
      "image/png": "[encoded data removed]",
      "text/plain": [
       "<Figure size 432x288 with 1 Axes>"
      ]
     },
     "metadata": {
      "needs_background": "light"
     },
     "output_type": "display_data"
    }
   ],
   "source": [
    "sns.boxplot(x = 'writing score' , y = \"gender\", data = students_performance)"
   ]
  },
  {
   "cell_type": "code",
   "execution_count": 86,
   "id": "a9f7438a",
   "metadata": {},
   "outputs": [
    {
     "data": {
      "text/plain": [
       "<AxesSubplot:>"
      ]
     },
     "execution_count": 86,
     "metadata": {},
     "output_type": "execute_result"
    },
    {
     "data": {
      "image/png": "[encoded data removed]",
      "text/plain": [
       "<Figure size 432x288 with 1 Axes>"
      ]
     },
     "metadata": {
      "needs_background": "light"
     },
     "output_type": "display_data"
    }
   ],
   "source": [
    "students_performance['writing score'].hist(bins = 70)"
   ]
  },
  {
   "cell_type": "code",
   "execution_count": 87,
   "id": "a072e0ef",
   "metadata": {},
   "outputs": [
    {
     "data": {
      "text/plain": [
       "68.054"
      ]
     },
     "execution_count": 87,
     "metadata": {},
     "output_type": "execute_result"
    }
   ],
   "source": [
    "students_performance['writing score'].mean()"
   ]
  },
  {
   "cell_type": "code",
   "execution_count": 88,
   "id": "8c7d438e",
   "metadata": {},
   "outputs": [
    {
     "data": {
      "text/plain": [
       "72.46718146718146"
      ]
     },
     "execution_count": 88,
     "metadata": {},
     "output_type": "execute_result"
    }
   ],
   "source": [
    "students_performance['writing score'].loc[students_performance['gender'] == 'female'].mean()"
   ]
  },
  {
   "cell_type": "code",
   "execution_count": 89,
   "id": "108da323",
   "metadata": {},
   "outputs": [
    {
     "data": {
      "text/plain": [
       "63.31120331950208"
      ]
     },
     "execution_count": 89,
     "metadata": {},
     "output_type": "execute_result"
    }
   ],
   "source": [
    "students_performance['writing score'].loc[students_performance['gender'] == 'male'].mean()"
   ]
  },
  {
   "cell_type": "markdown",
   "id": "7560a10f",
   "metadata": {},
   "source": [
    "Next what i did was I added a new column to the dataframe named 'percentage' and i calculated it by adding 'math score', 'reading score' and 'writing score' and dividing it by 300 and multpilying the answer with 100.\n",
    "\n",
    "After calculating the percentage of all the students I calculated the average percentage of them using the histogram again."
   ]
  },
  {
   "cell_type": "code",
   "execution_count": 90,
   "id": "6757fe70",
   "metadata": {},
   "outputs": [],
   "source": [
    "# Created a new column 'percentage' using the 3 scores column.\n",
    "students_performance['percentage'] = ((students_performance['math score'] + students_performance['writing score'] + \n",
    "                                       students_performance['reading score'] ) * 100) / 300"
   ]
  },
  {
   "cell_type": "code",
   "execution_count": 97,
   "id": "f8f0a64f",
   "metadata": {},
   "outputs": [
    {
     "data": {
      "text/plain": [
       "<AxesSubplot:>"
      ]
     },
     "execution_count": 97,
     "metadata": {},
     "output_type": "execute_result"
    },
    {
     "data": {
      "image/png": "[encoded data removed]",
      "text/plain": [
       "<Figure size 432x288 with 1 Axes>"
      ]
     },
     "metadata": {
      "needs_background": "light"
     },
     "output_type": "display_data"
    }
   ],
   "source": [
    "students_performance['percentage'].hist(bins = 70)"
   ]
  },
  {
   "cell_type": "code",
   "execution_count": 104,
   "id": "bcbf0658",
   "metadata": {},
   "outputs": [
    {
     "data": {
      "text/html": [
       "<div>\n",
       "<style scoped>\n",
       "    .dataframe tbody tr th:only-of-type {\n",
       "        vertical-align: middle;\n",
       "    }\n",
       "\n",
       "    .dataframe tbody tr th {\n",
       "        vertical-align: top;\n",
       "    }\n",
       "\n",
       "    .dataframe thead th {\n",
       "        text-align: right;\n",
       "    }\n",
       "</style>\n",
       "<table border=\"1\" class=\"dataframe\">\n",
       "  <thead>\n",
       "    <tr style=\"text-align: right;\">\n",
       "      <th></th>\n",
       "      <th>gender</th>\n",
       "      <th>race/ethnicity</th>\n",
       "      <th>parental level of education</th>\n",
       "      <th>lunch</th>\n",
       "      <th>test preparation course</th>\n",
       "      <th>math score</th>\n",
       "      <th>reading score</th>\n",
       "      <th>writing score</th>\n",
       "      <th>percentage</th>\n",
       "      <th>grades</th>\n",
       "      <th>results</th>\n",
       "      <th>pass/fail</th>\n",
       "    </tr>\n",
       "  </thead>\n",
       "  <tbody>\n",
       "    <tr>\n",
       "      <th>0</th>\n",
       "      <td>female</td>\n",
       "      <td>group B</td>\n",
       "      <td>bachelor's degree</td>\n",
       "      <td>standard</td>\n",
       "      <td>none</td>\n",
       "      <td>72</td>\n",
       "      <td>72</td>\n",
       "      <td>74</td>\n",
       "      <td>72.666667</td>\n",
       "      <td>C</td>\n",
       "      <td>pass</td>\n",
       "      <td>1</td>\n",
       "    </tr>\n",
       "    <tr>\n",
       "      <th>1</th>\n",
       "      <td>female</td>\n",
       "      <td>group C</td>\n",
       "      <td>some college</td>\n",
       "      <td>standard</td>\n",
       "      <td>completed</td>\n",
       "      <td>69</td>\n",
       "      <td>90</td>\n",
       "      <td>88</td>\n",
       "      <td>82.333333</td>\n",
       "      <td>B</td>\n",
       "      <td>pass</td>\n",
       "      <td>1</td>\n",
       "    </tr>\n",
       "    <tr>\n",
       "      <th>2</th>\n",
       "      <td>female</td>\n",
       "      <td>group B</td>\n",
       "      <td>master's degree</td>\n",
       "      <td>standard</td>\n",
       "      <td>none</td>\n",
       "      <td>90</td>\n",
       "      <td>95</td>\n",
       "      <td>93</td>\n",
       "      <td>92.666667</td>\n",
       "      <td>A</td>\n",
       "      <td>pass</td>\n",
       "      <td>1</td>\n",
       "    </tr>\n",
       "    <tr>\n",
       "      <th>3</th>\n",
       "      <td>male</td>\n",
       "      <td>group A</td>\n",
       "      <td>associate's degree</td>\n",
       "      <td>free/reduced</td>\n",
       "      <td>none</td>\n",
       "      <td>47</td>\n",
       "      <td>57</td>\n",
       "      <td>44</td>\n",
       "      <td>49.333333</td>\n",
       "      <td>D</td>\n",
       "      <td>pass</td>\n",
       "      <td>1</td>\n",
       "    </tr>\n",
       "    <tr>\n",
       "      <th>4</th>\n",
       "      <td>male</td>\n",
       "      <td>group C</td>\n",
       "      <td>some college</td>\n",
       "      <td>standard</td>\n",
       "      <td>none</td>\n",
       "      <td>76</td>\n",
       "      <td>78</td>\n",
       "      <td>75</td>\n",
       "      <td>76.333333</td>\n",
       "      <td>C+</td>\n",
       "      <td>pass</td>\n",
       "      <td>1</td>\n",
       "    </tr>\n",
       "  </tbody>\n",
       "</table>\n",
       "</div>"
      ],
      "text/plain": [
       "   gender race/ethnicity parental level of education         lunch  \\\n",
       "0  female        group B           bachelor's degree      standard   \n",
       "1  female        group C                some college      standard   \n",
       "2  female        group B             master's degree      standard   \n",
       "3    male        group A          associate's degree  free/reduced   \n",
       "4    male        group C                some college      standard   \n",
       "\n",
       "  test preparation course  math score  reading score  writing score  \\\n",
       "0                    none          72             72             74   \n",
       "1               completed          69             90             88   \n",
       "2                    none          90             95             93   \n",
       "3                    none          47             57             44   \n",
       "4                    none          76             78             75   \n",
       "\n",
       "   percentage grades results  pass/fail  \n",
       "0   72.666667      C    pass          1  \n",
       "1   82.333333      B    pass          1  \n",
       "2   92.666667      A    pass          1  \n",
       "3   49.333333      D    pass          1  \n",
       "4   76.333333     C+    pass          1  "
      ]
     },
     "execution_count": 104,
     "metadata": {},
     "output_type": "execute_result"
    }
   ],
   "source": [
    "students_performance.head()"
   ]
  },
  {
   "cell_type": "markdown",
   "id": "ec45cfa3",
   "metadata": {},
   "source": [
    "From the newely created column 'percentage' I designed a function which would return the grade based on the percentage and added a new column 'grades' to store them in the dataframe.\n",
    "\n",
    "And them another column which would let us know whether the student passes or failed based on the grades that he/she received."
   ]
  },
  {
   "cell_type": "code",
   "execution_count": 95,
   "id": "9f4fe15a",
   "metadata": {},
   "outputs": [],
   "source": [
    "def grades(performance):\n",
    "    '''\n",
    "    This function takes on the particular column as the parameter\n",
    "    and whould return the grade according to the percentage of\n",
    "    the student's scores.\n",
    "    '''\n",
    "    percentage = performance\n",
    "    \n",
    "    if percentage >= 92:\n",
    "        return 'A'\n",
    "    elif percentage >= 89 and percentage < 92:\n",
    "        return 'A-'\n",
    "    elif percentage >= 86 and percentage < 89:\n",
    "        return 'B+'\n",
    "    elif percentage >= 82 and percentage < 86:\n",
    "        return 'B'\n",
    "    elif percentage >= 79 and percentage < 82:\n",
    "        return 'B-'\n",
    "    elif percentage >= 76 and percentage < 79:\n",
    "        return 'C+'\n",
    "    elif percentage >= 72 and percentage < 76:\n",
    "        return 'C'\n",
    "    elif percentage >= 35 and percentage < 72:\n",
    "        return 'D'\n",
    "    else:\n",
    "        return 'F'\n",
    "\n",
    "# Called the function grade here.\n",
    "students_performance['grades'] = students_performance[['percentage']].apply(grades,axis=1)"
   ]
  },
  {
   "cell_type": "code",
   "execution_count": 96,
   "id": "3e3506b9",
   "metadata": {},
   "outputs": [],
   "source": [
    "def results(performance):\n",
    "    '''\n",
    "    This is the function that gives us the result that is if \n",
    "    the grade is F than it would return 0 and if not it would return 1.\n",
    "    '''\n",
    "    grades = performance\n",
    "    \n",
    "    if grades != 'F':\n",
    "        return 1\n",
    "    else:\n",
    "        return 0\n",
    "    \n",
    "# Called the function grade here.\n",
    "students_performance['results'] = students_performance[['grades']].apply(results,axis=1)"
   ]
  },
  {
   "cell_type": "code",
   "execution_count": 98,
   "id": "fea61590",
   "metadata": {},
   "outputs": [
    {
     "data": {
      "text/plain": [
       "<seaborn.axisgrid.FacetGrid at 0x1fe417086a0>"
      ]
     },
     "execution_count": 98,
     "metadata": {},
     "output_type": "execute_result"
    },
    {
     "data": {
      "image/png": "[encoded data removed]",
      "text/plain": [
       "<Figure size 360x360 with 1 Axes>"
      ]
     },
     "metadata": {
      "needs_background": "light"
     },
     "output_type": "display_data"
    }
   ],
   "source": [
    "# Converted the 0 and 1 in results to pass and fail.\n",
    "students_performance[\"results\"] = students_performance.results.map({0: \"fail\", 1: \"pass\"})\n",
    "\n",
    "sns.catplot(x = 'results', kind = \"count\", data = students_performance)"
   ]
  },
  {
   "cell_type": "markdown",
   "id": "2480ff88",
   "metadata": {},
   "source": [
    "From the results column we got to know that almost all the students passes except a very few as it's evident from the graph shown above.\n",
    "\n",
    "Then through the second graph we could say that there are more number of female who failed than male out of all those who appeared for the examination."
   ]
  },
  {
   "cell_type": "code",
   "execution_count": 110,
   "id": "1df1dd0a",
   "metadata": {},
   "outputs": [
    {
     "data": {
      "text/plain": [
       "<seaborn.axisgrid.FacetGrid at 0x1fe42fb6040>"
      ]
     },
     "execution_count": 110,
     "metadata": {},
     "output_type": "execute_result"
    },
    {
     "data": {
      "image/png": "[encoded data removed]",
      "text/plain": [
       "<Figure size 430.5x360 with 1 Axes>"
      ]
     },
     "metadata": {
      "needs_background": "light"
     },
     "output_type": "display_data"
    }
   ],
   "source": [
    "sns.catplot(x = 'results', kind = \"count\", hue='gender', data = students_performance)"
   ]
  },
  {
   "cell_type": "code",
   "execution_count": 106,
   "id": "5be75fa6",
   "metadata": {},
   "outputs": [
    {
     "data": {
      "text/plain": [
       "<seaborn.axisgrid.FacetGrid at 0x1fe42a2f130>"
      ]
     },
     "execution_count": 106,
     "metadata": {},
     "output_type": "execute_result"
    },
    {
     "data": {
      "image/png": "[encoded data removed]",
      "text/plain": [
       "<Figure size 360x360 with 1 Axes>"
      ]
     },
     "metadata": {
      "needs_background": "light"
     },
     "output_type": "display_data"
    }
   ],
   "source": [
    "# Added a new column from the results with 0's and 1's\n",
    "students_performance[\"pass/fail\"] = students_performance.results.map({\"fail\" : 0,\"pass\": 1})\n",
    "\n",
    "# The point graph whihc has pass/fail and test preparation course.\n",
    "sns.catplot(x = 'test preparation course',y = 'pass/fail', kind= \"point\" ,data=students_performance)"
   ]
  },
  {
   "cell_type": "code",
   "execution_count": 107,
   "id": "7174b537",
   "metadata": {},
   "outputs": [
    {
     "data": {
      "text/plain": [
       "<seaborn.axisgrid.FacetGrid at 0x1fe42d5af40>"
      ]
     },
     "execution_count": 107,
     "metadata": {},
     "output_type": "execute_result"
    },
    {
     "data": {
      "image/png": "[encoded data removed]",
      "text/plain": [
       "<Figure size 430.5x360 with 1 Axes>"
      ]
     },
     "metadata": {
      "needs_background": "light"
     },
     "output_type": "display_data"
    }
   ],
   "source": [
    "# The point graph whihc has pass/fail and race/ethnicity course.\n",
    "sns.catplot(x = 'race/ethnicity',y = 'pass/fail', kind= \"point\", hue = 'gender' ,data=students_performance)"
   ]
  },
  {
   "cell_type": "markdown",
   "id": "f2e00ccf",
   "metadata": {},
   "source": [
    "This is a point graph from which we get to know that almost all male and female passed who were from group E. While, the students from Group B where the ones who failed the most and we can figure it out through the above graph as the verical line is the longest in group B than in any other groups."
   ]
  },
  {
   "cell_type": "code",
   "execution_count": 108,
   "id": "3c7e8df5",
   "metadata": {},
   "outputs": [
    {
     "data": {
      "text/plain": [
       "<seaborn.axisgrid.FacetGrid at 0x1fe42b90730>"
      ]
     },
     "execution_count": 108,
     "metadata": {},
     "output_type": "execute_result"
    },
    {
     "data": {
      "image/png": "[encoded data removed]",
      "text/plain": [
       "<Figure size 360x360 with 1 Axes>"
      ]
     },
     "metadata": {
      "needs_background": "light"
     },
     "output_type": "display_data"
    }
   ],
   "source": [
    "# Another point graph.\n",
    "sns.catplot(x = 'gender',y = 'pass/fail', kind= \"point\" ,data=students_performance)"
   ]
  },
  {
   "cell_type": "markdown",
   "id": "4be24c1b",
   "metadata": {},
   "source": [
    "From the above graph we can conculde that there were more number of female who failed in the exams than the men and it's quite suggestive from the graph itself."
   ]
  }
 ],
 "metadata": {
  "kernelspec": {
   "display_name": "Python 3",
   "language": "python",
   "name": "python3"
  },
  "language_info": {
   "codemirror_mode": {
    "name": "ipython",
    "version": 3
   },
   "file_extension": ".py",
   "mimetype": "text/x-python",
   "name": "python",
   "nbconvert_exporter": "python",
   "pygments_lexer": "ipython3",
   "version": "3.8.8"
  },
  "widgets": {
   "application/vnd.jupyter.widget-state+json": {
    "state": {},
    "version_major": 2,
    "version_minor": 0
   }
  }
 },
 "nbformat": 4,
 "nbformat_minor": 5
}
